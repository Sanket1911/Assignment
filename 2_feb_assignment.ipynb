{
 "cells": [
  {
   "cell_type": "code",
   "execution_count": 1,
   "id": "0e816fa8-1305-489e-86ad-9cbe00091191",
   "metadata": {},
   "outputs": [],
   "source": [
    " #1.  Explain with an example each when to use a for loop and a while loop"
   ]
  },
  {
   "cell_type": "code",
   "execution_count": 2,
   "id": "4880dabf-45c4-4feb-a987-a291563c67c1",
   "metadata": {},
   "outputs": [
    {
     "data": {
      "text/plain": [
       "\"\\nFor Loop: \\n    A for loop is an iteration method that is best \\n    used when you know the number of iterations ahead of time.\\n    It’s always followed by the initialization, expression and \\n    increment statements.\\nWhile Loop:\\n    A while loop is an iteration method that is best used when \\n    you don't know the number of iterations ahead of time.\\n    The contents of the loop are executed as long as \\n    the expression evaluates to true.\\n\""
      ]
     },
     "execution_count": 2,
     "metadata": {},
     "output_type": "execute_result"
    }
   ],
   "source": [
    "\"\"\"\n",
    "For Loop: \n",
    "    A for loop is an iteration method that is best \n",
    "    used when you know the number of iterations ahead of time.\n",
    "    It’s always followed by the initialization, expression and \n",
    "    increment statements.\n",
    "While Loop:\n",
    "    A while loop is an iteration method that is best used when \n",
    "    you don't know the number of iterations ahead of time.\n",
    "    The contents of the loop are executed as long as \n",
    "    the expression evaluates to true.\n",
    "\"\"\""
   ]
  },
  {
   "cell_type": "code",
   "execution_count": 3,
   "id": "aa19e54f-c340-4903-a3cb-89854d3ce63a",
   "metadata": {},
   "outputs": [],
   "source": [
    "# Write a python program to print the sum and product \n",
    "# of the first 10 natural numbers using for \n",
    "# and while loop."
   ]
  },
  {
   "cell_type": "code",
   "execution_count": 4,
   "id": "a76165da-2f5c-4869-9f63-a0f3c0caec84",
   "metadata": {},
   "outputs": [
    {
     "name": "stdout",
     "output_type": "stream",
     "text": [
      "sum : 55 product : 3628800\n"
     ]
    }
   ],
   "source": [
    "sum = 0\n",
    "prod = 1\n",
    "i = 1\n",
    "while i <= 10:\n",
    "    sum += i\n",
    "    prod *= i\n",
    "    i += 1\n",
    "print(\"sum : \" + str(sum) + \" \" + \"product : \" + str(prod))"
   ]
  },
  {
   "cell_type": "code",
   "execution_count": 5,
   "id": "980a7c28-d610-4d44-9d10-7ba0ddbd403a",
   "metadata": {},
   "outputs": [],
   "source": [
    "# Q3"
   ]
  },
  {
   "cell_type": "code",
   "execution_count": 13,
   "id": "1668c354-1501-483c-bdbb-95d9cfe2497e",
   "metadata": {},
   "outputs": [
    {
     "name": "stdin",
     "output_type": "stream",
     "text": [
      "Enter the units consumed :  301\n"
     ]
    },
    {
     "name": "stdout",
     "output_type": "stream",
     "text": [
      "Total Cost :  2070.0\n"
     ]
    }
   ],
   "source": [
    "unit_consumed = int(input(\"Enter the units consumed : \"))\n",
    "ans = 0\n",
    "if unit_consumed > 100:\n",
    "    ans = 100 * 4.5\n",
    "    unit_consumed -= 100\n",
    "    if unit_consumed > 100:\n",
    "        ans += 100 * 6\n",
    "        unit_consumed -= 100\n",
    "        if unit_consumed > 100:\n",
    "            ans += 100 * 10\n",
    "            unit_consumed -= 100\n",
    "            if(unit_consumed > 0):\n",
    "                ans+= unit_consumed * 20\n",
    "                unit_consumed = 0\n",
    "        else:\n",
    "            ans += unit_consumed * 10\n",
    "    else:\n",
    "        ans += unit_consumed * 6\n",
    "else:\n",
    "    ans = unit_consumed * 4.5\n",
    "print(\"Total Cost : \",ans)"
   ]
  },
  {
   "cell_type": "code",
   "execution_count": 14,
   "id": "0e06a91e-a86d-4ea4-9879-62117e647ec6",
   "metadata": {},
   "outputs": [],
   "source": [
    "# Q4"
   ]
  },
  {
   "cell_type": "code",
   "execution_count": 15,
   "id": "801c693e-8e15-4c9a-8985-1fb8f738dad8",
   "metadata": {},
   "outputs": [
    {
     "name": "stdout",
     "output_type": "stream",
     "text": [
      "[2, 4, 5, 6, 8, 10, 12, 14, 15, 16, 18, 20, 22, 24, 25, 26, 28, 30, 32, 34, 35, 36, 38, 40, 42, 44, 45, 46, 48, 50, 52, 54, 55, 56, 58, 60, 62, 64, 65, 66, 68, 70, 72, 74, 75, 76, 78, 80, 82, 84, 85, 86, 88, 90, 92, 94, 95, 96, 98, 100]\n"
     ]
    }
   ],
   "source": [
    "list = []\n",
    "for i in range(1,101):\n",
    "    cube = i*i*i\n",
    "    if(cube%4 == 0 or cube%5 == 0):\n",
    "        list.append(i)\n",
    "print(list)"
   ]
  },
  {
   "cell_type": "code",
   "execution_count": 16,
   "id": "a1aaaf5d-8cbc-4c59-afad-8f7a1c9a660c",
   "metadata": {},
   "outputs": [
    {
     "name": "stdout",
     "output_type": "stream",
     "text": [
      "[2, 4, 5, 6, 8, 10, 12, 14, 15, 16, 18, 20, 22, 24, 25, 26, 28, 30, 32, 34, 35, 36, 38, 40, 42, 44, 45, 46, 48, 50, 52, 54, 55, 56, 58, 60, 62, 64, 65, 66, 68, 70, 72, 74, 75, 76, 78, 80, 82, 84, 85, 86, 88, 90, 92, 94, 95, 96, 98, 100]\n"
     ]
    }
   ],
   "source": [
    "list = []\n",
    "i = 1\n",
    "while(i <= 100):\n",
    "    cube = i*i*i\n",
    "    if(cube%4 == 0 or cube%5 == 0):\n",
    "        list.append(i)\n",
    "    i += 1\n",
    "print(list)"
   ]
  },
  {
   "cell_type": "code",
   "execution_count": 17,
   "id": "d3c33535-ad87-4ee7-89a3-63de14707a48",
   "metadata": {},
   "outputs": [],
   "source": [
    "#Q5"
   ]
  },
  {
   "cell_type": "code",
   "execution_count": 18,
   "id": "e19055d7-7c68-4d76-b437-3ffb24b96cec",
   "metadata": {},
   "outputs": [],
   "source": [
    "string = \"I want to become a data scientist\""
   ]
  },
  {
   "cell_type": "code",
   "execution_count": 24,
   "id": "ea648a83-163d-4177-99d2-ee7dd37f9cd1",
   "metadata": {},
   "outputs": [
    {
     "name": "stdout",
     "output_type": "stream",
     "text": [
      "12\n"
     ]
    }
   ],
   "source": [
    "count = 0\n",
    "for ch in string:\n",
    "    if(ch == 'A' or ch == 'E' or ch == 'I' or ch == 'O' or ch == 'U' or\n",
    "       ch == 'a' or ch == 'e' or ch == 'i' or ch == 'o' or ch == 'u'):\n",
    "        count += 1\n",
    "print(count)"
   ]
  },
  {
   "cell_type": "code",
   "execution_count": null,
   "id": "1df7f9c3-7863-44cf-8082-900ac1499131",
   "metadata": {},
   "outputs": [],
   "source": []
  }
 ],
 "metadata": {
  "kernelspec": {
   "display_name": "Python 3 (ipykernel)",
   "language": "python",
   "name": "python3"
  },
  "language_info": {
   "codemirror_mode": {
    "name": "ipython",
    "version": 3
   },
   "file_extension": ".py",
   "mimetype": "text/x-python",
   "name": "python",
   "nbconvert_exporter": "python",
   "pygments_lexer": "ipython3",
   "version": "3.10.8"
  }
 },
 "nbformat": 4,
 "nbformat_minor": 5
}
