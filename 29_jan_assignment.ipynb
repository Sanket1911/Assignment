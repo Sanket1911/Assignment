{
 "cells": [
  {
   "cell_type": "code",
   "execution_count": 1,
   "id": "8b6f1775-076a-439d-a48a-d1bf548cf545",
   "metadata": {},
   "outputs": [],
   "source": [
    "# Q1"
   ]
  },
  {
   "cell_type": "code",
   "execution_count": 2,
   "id": "ede22a84-bd67-4311-96b5-003aec535937",
   "metadata": {},
   "outputs": [],
   "source": [
    "## Guido van Rossum"
   ]
  },
  {
   "cell_type": "code",
   "execution_count": 3,
   "id": "89e880a1-6337-41ad-a76c-0e6e7d60f356",
   "metadata": {},
   "outputs": [],
   "source": [
    "# Q2"
   ]
  },
  {
   "cell_type": "code",
   "execution_count": null,
   "id": "350c5cc5-5cd2-4e0f-90b8-47c9f34de191",
   "metadata": {},
   "outputs": [],
   "source": [
    "'''\n",
    "Python is a multi-paradigm programming language. \n",
    "Object-oriented programming and structured programming are fully \n",
    "supported, and many of their features support functional programming \n",
    "and aspect-oriented programming (including metaprogramming and metaobjects).\n",
    "'''"
   ]
  },
  {
   "cell_type": "code",
   "execution_count": 4,
   "id": "178ac290-c280-480a-9576-2711e0771eb2",
   "metadata": {},
   "outputs": [],
   "source": [
    "# Q3"
   ]
  },
  {
   "cell_type": "code",
   "execution_count": 5,
   "id": "cbbf1c2b-a781-4390-92a4-312f3ce64317",
   "metadata": {},
   "outputs": [],
   "source": [
    "# Yes Python is case sensitive"
   ]
  },
  {
   "cell_type": "code",
   "execution_count": 6,
   "id": "b81b8a6e-047a-4f81-ae1b-c8371dd9ef28",
   "metadata": {},
   "outputs": [],
   "source": [
    "# Q4"
   ]
  },
  {
   "cell_type": "code",
   "execution_count": 7,
   "id": "030cd006-3643-4428-a3c6-6105d4515820",
   "metadata": {},
   "outputs": [],
   "source": [
    "#  .py"
   ]
  },
  {
   "cell_type": "code",
   "execution_count": 8,
   "id": "a7066dc3-239e-4ec4-b67a-a6cc01eadf22",
   "metadata": {},
   "outputs": [],
   "source": [
    "# Q5"
   ]
  },
  {
   "cell_type": "code",
   "execution_count": 9,
   "id": "78fa7d7f-0093-4198-bb8f-3adf27f1a8ab",
   "metadata": {},
   "outputs": [],
   "source": [
    "# Python is an interpreted language, which means the source code\n",
    "# of a Python program is converted into bytecode that is then\n",
    "# executed by the Python virtual machine"
   ]
  },
  {
   "cell_type": "code",
   "execution_count": 10,
   "id": "83d19043-3cd1-4fbe-97a4-81e8f5b4145f",
   "metadata": {},
   "outputs": [],
   "source": [
    "# Q6"
   ]
  },
  {
   "cell_type": "code",
   "execution_count": 11,
   "id": "d7facdb4-9faa-4d88-b84c-87231bc18b94",
   "metadata": {},
   "outputs": [],
   "source": [
    "# Indentation is used to define a block of code in python"
   ]
  },
  {
   "cell_type": "code",
   "execution_count": 12,
   "id": "162a88c8-59a9-43db-8563-580e6238a2d5",
   "metadata": {},
   "outputs": [],
   "source": [
    "# Q7"
   ]
  },
  {
   "cell_type": "code",
   "execution_count": 13,
   "id": "74e194be-a5e1-4eb4-84be-7b27814f447f",
   "metadata": {},
   "outputs": [],
   "source": [
    "#"
   ]
  },
  {
   "cell_type": "code",
   "execution_count": 14,
   "id": "d32c808c-0ff4-4571-9740-6dba109583b9",
   "metadata": {},
   "outputs": [],
   "source": [
    "# Q8"
   ]
  },
  {
   "cell_type": "code",
   "execution_count": 15,
   "id": "5389f791-9d93-4b02-bb93-1331fe033b14",
   "metadata": {},
   "outputs": [],
   "source": [
    "# sys.version"
   ]
  },
  {
   "cell_type": "code",
   "execution_count": 16,
   "id": "1247c613-b40c-4eb5-9249-9ce817e85771",
   "metadata": {},
   "outputs": [],
   "source": [
    "# Q9"
   ]
  },
  {
   "cell_type": "code",
   "execution_count": 17,
   "id": "26c9dd43-ae57-45a8-9148-f8a6b32e05cf",
   "metadata": {},
   "outputs": [],
   "source": [
    "# lambda"
   ]
  },
  {
   "cell_type": "code",
   "execution_count": 18,
   "id": "745d90c6-39e5-463c-8b26-c38ad5c83cdf",
   "metadata": {},
   "outputs": [],
   "source": [
    "# Q10"
   ]
  },
  {
   "cell_type": "code",
   "execution_count": 19,
   "id": "def28930-74ed-46a6-9e18-8e9b4743af7f",
   "metadata": {},
   "outputs": [],
   "source": [
    "# preferred installer program"
   ]
  },
  {
   "cell_type": "code",
   "execution_count": 20,
   "id": "adec391c-f173-4d97-bf28-6e8e3cde4f81",
   "metadata": {},
   "outputs": [],
   "source": [
    "# Q11"
   ]
  },
  {
   "cell_type": "code",
   "execution_count": 23,
   "id": "d1a38d78-dfa0-438f-a761-18dbbf7f1db6",
   "metadata": {},
   "outputs": [],
   "source": [
    "# print()\n",
    "# len()\n",
    "# type()\n",
    "# range()\n",
    "# append() ...."
   ]
  },
  {
   "cell_type": "code",
   "execution_count": 24,
   "id": "c0396d99-24eb-4b7a-ba49-0a2f73661a2f",
   "metadata": {},
   "outputs": [],
   "source": [
    "# Q12"
   ]
  },
  {
   "cell_type": "code",
   "execution_count": 25,
   "id": "aafdcf39-b4d6-4a33-ac93-187c6e4f093c",
   "metadata": {},
   "outputs": [],
   "source": [
    "# 79 characters"
   ]
  },
  {
   "cell_type": "code",
   "execution_count": 26,
   "id": "49bed3c0-aef2-4ae6-ad6a-72a5eed4ca57",
   "metadata": {},
   "outputs": [],
   "source": [
    "# Q13"
   ]
  },
  {
   "cell_type": "code",
   "execution_count": null,
   "id": "2dd5fd98-6789-4ad0-a867-3cf1220c35d0",
   "metadata": {},
   "outputs": [],
   "source": [
    "'''\n",
    "    Data science.\n",
    "    Scientific and mathematical computing.\n",
    "    Web development.\n",
    "    Finance and trading.\n",
    "    System automation and administration.\n",
    "    Computer graphics.\n",
    "    Basic game development.\n",
    "    Security and penetration testing.\n",
    "'''"
   ]
  },
  {
   "cell_type": "code",
   "execution_count": 27,
   "id": "f166b8a7-7f3f-4ebd-aca1-06938797f0dc",
   "metadata": {},
   "outputs": [],
   "source": [
    "# Q14"
   ]
  },
  {
   "cell_type": "code",
   "execution_count": null,
   "id": "607b3aea-df9b-4adc-9de8-13821a6d528c",
   "metadata": {},
   "outputs": [],
   "source": [
    "'''\n",
    "    Memory management in Python involves a private heap \n",
    "    containing all Python objects and data structures. \n",
    "    The management of this private heap is ensured internally \n",
    "    by the Python memory manager.\n",
    "'''"
   ]
  },
  {
   "cell_type": "code",
   "execution_count": 28,
   "id": "fdf44af3-a299-405e-9835-0a4b3153426f",
   "metadata": {},
   "outputs": [],
   "source": [
    "# Q15"
   ]
  },
  {
   "cell_type": "code",
   "execution_count": null,
   "id": "9c00f6be-a845-48e0-b2f4-0142dc501c54",
   "metadata": {},
   "outputs": [],
   "source": [
    "'''\n",
    "    Download the binaries\n",
    "    Run the Executable installer\n",
    "    Add Python to PATH environmental variables\n",
    "'''"
   ]
  },
  {
   "cell_type": "code",
   "execution_count": 30,
   "id": "541b2088-f446-4a08-a7af-21b8f8d81d85",
   "metadata": {},
   "outputs": [],
   "source": [
    "# Q16"
   ]
  },
  {
   "cell_type": "code",
   "execution_count": 31,
   "id": "b7be5d86-82bb-4766-b15b-9318be48df38",
   "metadata": {},
   "outputs": [],
   "source": [
    "# Yes, indentation represents a block of code"
   ]
  },
  {
   "cell_type": "code",
   "execution_count": null,
   "id": "ec3a66e7-25ff-4313-b75d-1082bb1218bd",
   "metadata": {},
   "outputs": [],
   "source": []
  }
 ],
 "metadata": {
  "kernelspec": {
   "display_name": "Python 3 (ipykernel)",
   "language": "python",
   "name": "python3"
  },
  "language_info": {
   "codemirror_mode": {
    "name": "ipython",
    "version": 3
   },
   "file_extension": ".py",
   "mimetype": "text/x-python",
   "name": "python",
   "nbconvert_exporter": "python",
   "pygments_lexer": "ipython3",
   "version": "3.10.8"
  }
 },
 "nbformat": 4,
 "nbformat_minor": 5
}
